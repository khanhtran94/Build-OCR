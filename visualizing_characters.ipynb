{
 "cells": [
  {
   "cell_type": "code",
   "execution_count": 1,
   "metadata": {
    "collapsed": true
   },
   "outputs": [],
   "source": [
    "import struct\n",
    "from PIL import Image"
   ]
  },
  {
   "cell_type": "code",
   "execution_count": 5,
   "metadata": {
    "collapsed": true
   },
   "outputs": [],
   "source": [
    "def read_record_ETL8G(f):\n",
    "    s = f.read(8199)\n",
    "    r = struct.unpack('>2H8sI4B4H2B30x8128s11x', s)\n",
    "    iF = Image.frombytes('F', (128, 127), r[14], 'bit', 4)\n",
    "    iL = iF.convert('L')\n",
    "    return r + (iL,)"
   ]
  },
  {
   "cell_type": "code",
   "execution_count": 10,
   "metadata": {
    "collapsed": true
   },
   "outputs": [],
   "source": [
    "def visualize_character():\n",
    "    for j in range(1, 2):\n",
    "        filename = '../../ETL8G/ETL8G_{:02d}'.format(j)\n",
    "        with open(filename, 'rb') as f:\n",
    "            for id_dataset in range(1):\n",
    "                new_img = Image.new('L', (128*32, 128*30))\n",
    "                for i in range(956):\n",
    "                    r = read_record_ETL8G(f)\n",
    "                    if b'.HIRA' in r[2]:\n",
    "                        print(r[:4])\n",
    "#                         new_img.paste(r[-1], (128*(i%32), 128*(i%32)))\n",
    "#                 iE = Image.eval(new_img, lambda x: 255-x*16)\n",
    "#                 fn = 'ETL8G_ds({}, {:03d}).png'.format(j, id_dataset)\n",
    "#                 iE.save(fn, 'PNG')"
   ]
  },
  {
   "cell_type": "code",
   "execution_count": 11,
   "metadata": {},
   "outputs": [
    {
     "name": "stdout",
     "output_type": "stream",
     "text": [
      "(1, 9250, b'A.HIRA  ', 1)\n",
      "(1, 9252, b'I.HIRA  ', 16)\n",
      "(1, 9254, b'U.HIRA  ', 31)\n",
      "(1, 9256, b'E.HIRA  ', 46)\n",
      "(1, 9258, b'O.HIRA  ', 61)\n",
      "(1, 9259, b'KA.HIRA ', 76)\n",
      "(1, 19007, b'HEI.HIRA', 83)\n",
      "(1, 9260, b'GA.HIRA ', 91)\n",
      "(2, 9261, b'KI.HIRA ', 1)\n",
      "(2, 9262, b'GI.HIRA ', 16)\n",
      "(2, 9263, b'KU.HIRA ', 31)\n",
      "(2, 9264, b'GU.HIRA ', 46)\n",
      "(2, 9265, b'KE.HIRA ', 61)\n",
      "(2, 9266, b'GE.HIRA ', 76)\n",
      "(2, 9267, b'KO.HIRA ', 91)\n",
      "(3, 9268, b'GO.HIRA ', 193)\n",
      "(3, 9269, b'SA.HIRA ', 208)\n",
      "(3, 9270, b'ZA.HIRA ', 223)\n",
      "(3, 9271, b'SHI.HIRA', 238)\n",
      "(3, 9272, b'JI.HIRA ', 253)\n",
      "(3, 9273, b'SU.HIRA ', 268)\n",
      "(3, 9274, b'ZU.HIRA ', 283)\n",
      "(4, 9275, b'SE.HIRA ', 289)\n",
      "(4, 9276, b'ZE.HIRA ', 304)\n",
      "(4, 9277, b'SO.HIRA ', 319)\n",
      "(4, 9278, b'ZO.HIRA ', 334)\n",
      "(4, 9279, b'TA.HIRA ', 349)\n",
      "(4, 9280, b'DA.HIRA ', 364)\n",
      "(4, 9281, b'CHI.HIRA', 378)\n",
      "(5, 9282, b'JI.HIRA ', 385)\n",
      "(5, 9284, b'TSU.HIRA', 400)\n",
      "(5, 9285, b'ZU.HIRA ', 415)\n",
      "(5, 9286, b'TE.HIRA ', 430)\n",
      "(5, 9287, b'DE.HIRA ', 445)\n",
      "(5, 9288, b'TO.HIRA ', 460)\n",
      "(5, 9289, b'DO.HIRA ', 475)\n",
      "(6, 9290, b'NA.HIRA ', 480)\n",
      "(6, 9291, b'NI.HIRA ', 495)\n",
      "(6, 9292, b'NU.HIRA ', 510)\n",
      "(6, 9293, b'NE.HIRA ', 525)\n",
      "(6, 9294, b'NO.HIRA ', 540)\n",
      "(6, 9295, b'HA.HIRA ', 555)\n",
      "(6, 9296, b'BA.HIRA ', 570)\n",
      "(7, 9297, b'PA.HIRA ', 576)\n",
      "(7, 9298, b'HI.HIRA ', 591)\n",
      "(7, 9299, b'BI.HIRA ', 606)\n",
      "(7, 9300, b'PI.HIRA ', 621)\n",
      "(7, 9301, b'FU.HIRA ', 636)\n",
      "(7, 9302, b'BU.HIRA ', 651)\n",
      "(7, 9303, b'PU.HIRA ', 666)\n",
      "(8, 9304, b'HE.HIRA ', 671)\n",
      "(8, 9305, b'BE.HIRA ', 686)\n",
      "(8, 9306, b'PE.HIRA ', 701)\n",
      "(8, 9307, b'HO.HIRA ', 716)\n",
      "(8, 9308, b'BO.HIRA ', 731)\n",
      "(8, 9309, b'PO.HIRA ', 746)\n",
      "(8, 9310, b'MA.HIRA ', 761)\n",
      "(9, 9311, b'MI.HIRA ', 766)\n",
      "(9, 9312, b'MU.HIRA ', 781)\n",
      "(9, 9313, b'ME.HIRA ', 796)\n",
      "(9, 9314, b'MO.HIRA ', 811)\n",
      "(9, 9316, b'YA.HIRA ', 826)\n",
      "(9, 9318, b'YU.HIRA ', 841)\n",
      "(9, 9320, b'YO.HIRA ', 856)\n",
      "(10, 9321, b'RA.HIRA ', 861)\n",
      "(10, 13099, b'KAI.HIRA', 870)\n",
      "(10, 9322, b'RI.HIRA ', 876)\n",
      "(10, 9323, b'RU.HIRA ', 891)\n",
      "(10, 9324, b'RE.HIRA ', 906)\n",
      "(10, 9325, b'RO.HIRA ', 921)\n",
      "(10, 9327, b'WA.HIRA ', 936)\n",
      "(10, 9331, b'N.HIRA  ', 956)\n"
     ]
    }
   ],
   "source": [
    "visualize_character()"
   ]
  },
  {
   "cell_type": "code",
   "execution_count": 3,
   "metadata": {
    "collapsed": true
   },
   "outputs": [],
   "source": [
    "def visualize_one_character():\n",
    "    filename = '../../ETL8G/ETL8G_01'\n",
    "    counter = 0\n",
    "    with open(filename, 'rb') as f:\n",
    "        for id_dataset in range(5):\n",
    "            for i in range(956):\n",
    "                r = read_record_ETL8G(f)\n",
    "                if b'.WO.' in r[2]:\n",
    "                    iE = Image.eval(r[-1], lambda x: 255-x*16)\n",
    "                    fn = 'ETL8G_{:d}_{:s}.png'.format((r[0]-1)%20+1, hex(r[1])[-4:])\n",
    "                    iE.save(fn, 'PNG')"
   ]
  },
  {
   "cell_type": "code",
   "execution_count": 4,
   "metadata": {},
   "outputs": [],
   "source": [
    "visualize_one_character()"
   ]
  },
  {
   "cell_type": "code",
   "execution_count": null,
   "metadata": {
    "collapsed": true
   },
   "outputs": [],
   "source": []
  }
 ],
 "metadata": {
  "kernelspec": {
   "display_name": "Python 3",
   "language": "python",
   "name": "python3"
  },
  "language_info": {
   "codemirror_mode": {
    "name": "ipython",
    "version": 3
   },
   "file_extension": ".py",
   "mimetype": "text/x-python",
   "name": "python",
   "nbconvert_exporter": "python",
   "pygments_lexer": "ipython3",
   "version": "3.6.3"
  }
 },
 "nbformat": 4,
 "nbformat_minor": 2
}
