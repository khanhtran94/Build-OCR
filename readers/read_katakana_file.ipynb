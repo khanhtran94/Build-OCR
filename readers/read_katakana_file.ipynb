{
 "cells": [
  {
   "cell_type": "code",
   "execution_count": 1,
   "metadata": {
    "collapsed": true
   },
   "outputs": [],
   "source": [
    "import struct\n",
    "import numpy as np\n",
    "from PIL import Image"
   ]
  },
  {
   "cell_type": "code",
   "execution_count": 18,
   "metadata": {
    "collapsed": true
   },
   "outputs": [],
   "source": [
    "record = 2052"
   ]
  },
  {
   "cell_type": "code",
   "execution_count": 246,
   "metadata": {
    "collapsed": true
   },
   "outputs": [],
   "source": [
    "def read_record_ETL1(total_sheets, f):\n",
    "    s = f.read(record)\n",
    "    r = struct.unpack('>H2sH6BI4H4B4x2016s4x', s)\n",
    "    iF = Image.frombytes('F', (64, 63), r[18], 'bit', 4)\n",
    "    iL = iF.convert('L')\n",
    "    return r + (iL,)"
   ]
  },
  {
   "cell_type": "code",
   "execution_count": 247,
   "metadata": {
    "collapsed": true
   },
   "outputs": [],
   "source": [
    "def read_regular_katakana():\n",
    "    # Character type = 46, person = 1411, y = 63, x = 64\n",
    "    ary = np.zeros([46, 1411, 63, 64], dtype=np.uint8)\n",
    "    counter = 0\n",
    "    moji = 0\n",
    "    for k in range(7, 14):\n",
    "        filename = '../../ETL1/ETL1C_{:02d}'.format(k)\n",
    "        with open(filename, 'rb') as f:\n",
    "            total_sheets = 0\n",
    "            categories = 8\n",
    "            if k == 13:\n",
    "                categories = 3\n",
    "            for j in range(categories):\n",
    "                incrimenter = 0\n",
    "                person = 0\n",
    "                sheets = 1411\n",
    "                if k == 9 and j == 4:\n",
    "                    sheets = 1410\n",
    "                elif k == 12 and j == 1:\n",
    "                    sheets = 1410\n",
    "                for i in range(sheets):\n",
    "                    r = read_record_ETL1(total_sheets, f)\n",
    "                    total_sheets += sheets\n",
    "                    if k < 11 or (k >= 11 and b' I' not in r[1] and b' E' not in r[1] and b'WI' not in r[1] and b' U' not in r[1] and b'WE' not in r[1]):\n",
    "                        pixels = np.array(r[-1])\n",
    "                        for row in pixels:\n",
    "                            for i in range(len(row)):\n",
    "                                if row[i] == 1 or row[i] == 2:\n",
    "                                    row[i] = 0\n",
    "                        ary[moji, person] = pixels\n",
    "                        incrimenter = 1\n",
    "                        person += 1\n",
    "                moji += incrimenter\n",
    "    np.savez_compressed(\"regular_katakana.npz\", ary)"
   ]
  },
  {
   "cell_type": "code",
   "execution_count": 248,
   "metadata": {
    "collapsed": true
   },
   "outputs": [],
   "source": [
    "read_regular_katakana()"
   ]
  },
  {
   "cell_type": "code",
   "execution_count": null,
   "metadata": {
    "collapsed": true
   },
   "outputs": [],
   "source": []
  }
 ],
 "metadata": {
  "kernelspec": {
   "display_name": "Python [default]",
   "language": "python",
   "name": "python3"
  },
  "language_info": {
   "codemirror_mode": {
    "name": "ipython",
    "version": 3
   },
   "file_extension": ".py",
   "mimetype": "text/x-python",
   "name": "python",
   "nbconvert_exporter": "python",
   "pygments_lexer": "ipython3",
   "version": "3.6.3"
  }
 },
 "nbformat": 4,
 "nbformat_minor": 2
}
