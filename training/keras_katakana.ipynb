{
 "cells": [
  {
   "cell_type": "code",
   "execution_count": 2,
   "metadata": {},
   "outputs": [
    {
     "name": "stderr",
     "output_type": "stream",
     "text": [
      "Using TensorFlow backend.\n"
     ]
    }
   ],
   "source": [
    "import numpy as np\n",
    "import scipy.misc\n",
    "from keras import backend as K\n",
    "# from keras import initializations\n",
    "from keras.layers import Conv2D, MaxPooling2D\n",
    "from keras.layers import Dense, Dropout, Activation, Flatten\n",
    "from keras.models import Sequential\n",
    "from keras.preprocessing.image import ImageDataGenerator\n",
    "from keras.utils import np_utils\n",
    "from sklearn.model_selection import train_test_split"
   ]
  },
  {
   "cell_type": "markdown",
   "metadata": {},
   "source": [
    "# Building Katakana Model with CNN"
   ]
  },
  {
   "cell_type": "code",
   "execution_count": 3,
   "metadata": {},
   "outputs": [
    {
     "name": "stdout",
     "output_type": "stream",
     "text": [
      "_________________________________________________________________\n",
      "Layer (type)                 Output Shape              Param #   \n",
      "=================================================================\n",
      "conv2d_1 (Conv2D)            (None, 30, 30, 32)        320       \n",
      "_________________________________________________________________\n",
      "activation_1 (Activation)    (None, 30, 30, 32)        0         \n",
      "_________________________________________________________________\n",
      "conv2d_2 (Conv2D)            (None, 28, 28, 32)        9248      \n",
      "_________________________________________________________________\n",
      "activation_2 (Activation)    (None, 28, 28, 32)        0         \n",
      "_________________________________________________________________\n",
      "max_pooling2d_1 (MaxPooling2 (None, 14, 14, 32)        0         \n",
      "_________________________________________________________________\n",
      "dropout_1 (Dropout)          (None, 14, 14, 32)        0         \n",
      "_________________________________________________________________\n",
      "conv2d_3 (Conv2D)            (None, 12, 12, 64)        18496     \n",
      "_________________________________________________________________\n",
      "activation_3 (Activation)    (None, 12, 12, 64)        0         \n",
      "_________________________________________________________________\n",
      "conv2d_4 (Conv2D)            (None, 10, 10, 64)        36928     \n",
      "_________________________________________________________________\n",
      "activation_4 (Activation)    (None, 10, 10, 64)        0         \n",
      "_________________________________________________________________\n",
      "max_pooling2d_2 (MaxPooling2 (None, 5, 5, 64)          0         \n",
      "_________________________________________________________________\n",
      "dropout_2 (Dropout)          (None, 5, 5, 64)          0         \n",
      "_________________________________________________________________\n",
      "flatten_1 (Flatten)          (None, 1600)              0         \n",
      "_________________________________________________________________\n",
      "dense_1 (Dense)              (None, 256)               409856    \n",
      "_________________________________________________________________\n",
      "activation_5 (Activation)    (None, 256)               0         \n",
      "_________________________________________________________________\n",
      "dropout_3 (Dropout)          (None, 256)               0         \n",
      "_________________________________________________________________\n",
      "dense_2 (Dense)              (None, 46)                11822     \n",
      "_________________________________________________________________\n",
      "activation_6 (Activation)    (None, 46)                0         \n",
      "=================================================================\n",
      "Total params: 486,670\n",
      "Trainable params: 486,670\n",
      "Non-trainable params: 0\n",
      "_________________________________________________________________\n"
     ]
    },
    {
     "name": "stderr",
     "output_type": "stream",
     "text": [
      "/anaconda3/lib/python3.6/site-packages/ipykernel/__main__.py:36: UserWarning: Update your `Conv2D` call to the Keras 2 API: `Conv2D(32, (3, 3), input_shape=(32, 32, 1...)`\n",
      "/anaconda3/lib/python3.6/site-packages/ipykernel/__main__.py:38: UserWarning: Update your `Conv2D` call to the Keras 2 API: `Conv2D(32, (3, 3))`\n",
      "/anaconda3/lib/python3.6/site-packages/ipykernel/__main__.py:43: UserWarning: Update your `Conv2D` call to the Keras 2 API: `Conv2D(64, (3, 3))`\n",
      "/anaconda3/lib/python3.6/site-packages/ipykernel/__main__.py:45: UserWarning: Update your `Conv2D` call to the Keras 2 API: `Conv2D(64, (3, 3))`\n"
     ]
    }
   ],
   "source": [
    "nb_classes = 46\n",
    "# input image dimensions\n",
    "img_rows, img_cols = 32, 32\n",
    "\n",
    "ary = np.load(\"regular_katakana.npz\")['arr_0'].reshape([-1, 63, 64]).astype(np.float32) / 15\n",
    "X_train = np.zeros([nb_classes * 1410, img_rows, img_cols], dtype=np.float32)\n",
    "for i in range(nb_classes * 1410):\n",
    "    X_train[i] = scipy.misc.imresize(ary[i], (img_rows, img_cols), mode='F')\n",
    "    # X_train[i] = ary[i]\n",
    "Y_train = np.repeat(np.arange(nb_classes), 1410)\n",
    "\n",
    "X_train, X_test, Y_train, Y_test = train_test_split(X_train, Y_train, test_size=0.2)\n",
    "\n",
    "if K.image_dim_ordering() == 'th':\n",
    "    X_train = X_train.reshape(X_train.shape[0], 1, img_rows, img_cols)\n",
    "    X_test = X_test.reshape(X_test.shape[0], 1, img_rows, img_cols)\n",
    "    input_shape = (1, img_rows, img_cols)\n",
    "else:\n",
    "    X_train = X_train.reshape(X_train.shape[0], img_rows, img_cols, 1)\n",
    "    X_test = X_test.reshape(X_test.shape[0], img_rows, img_cols, 1)\n",
    "    input_shape = (img_rows, img_cols, 1)\n",
    "\n",
    "# convert class vectors to categorical matrices\n",
    "Y_train = np_utils.to_categorical(Y_train, nb_classes)\n",
    "Y_test = np_utils.to_categorical(Y_test, nb_classes)\n",
    "\n",
    "datagen = ImageDataGenerator(rotation_range=15, zoom_range=0.20)\n",
    "datagen.fit(X_train)\n",
    "\n",
    "model = Sequential()\n",
    "\n",
    "def m6_1():\n",
    "    model.add(Conv2D(32, 3, 3, input_shape=input_shape))\n",
    "    model.add(Activation('relu'))\n",
    "    model.add(Conv2D(32, 3, 3))\n",
    "    model.add(Activation('relu'))\n",
    "    model.add(MaxPooling2D(pool_size=(2, 2)))\n",
    "    model.add(Dropout(0.5))\n",
    "\n",
    "    model.add(Conv2D(64, 3, 3))\n",
    "    model.add(Activation('relu'))\n",
    "    model.add(Conv2D(64, 3, 3))\n",
    "    model.add(Activation('relu'))\n",
    "    model.add(MaxPooling2D(pool_size=(2, 2)))\n",
    "    model.add(Dropout(0.5))\n",
    "\n",
    "    model.add(Flatten())\n",
    "    model.add(Dense(256))\n",
    "    model.add(Activation('relu'))\n",
    "    model.add(Dropout(0.5))\n",
    "    model.add(Dense(nb_classes))\n",
    "    model.add(Activation('softmax'))\n",
    "\n",
    "model.summary()\n"
   ]
  },
  {
   "cell_type": "code",
   "execution_count": 4,
   "metadata": {
    "scrolled": false
   },
   "outputs": [
    {
     "name": "stderr",
     "output_type": "stream",
     "text": [
      "/anaconda3/lib/python3.6/site-packages/ipykernel/__main__.py:3: UserWarning: The semantics of the Keras 2 argument `steps_per_epoch` is not the same as the Keras 1 argument `samples_per_epoch`. `steps_per_epoch` is the number of batches to draw from the generator at each epoch. Basically steps_per_epoch = samples_per_epoch/batch_size. Similarly `nb_val_samples`->`validation_steps` and `val_samples`->`steps` arguments have changed. Update your method calls accordingly.\n",
      "  app.launch_new_instance()\n",
      "/anaconda3/lib/python3.6/site-packages/ipykernel/__main__.py:3: UserWarning: Update your `fit_generator` call to the Keras 2 API: `fit_generator(<keras.pre..., validation_data=(array([[[..., steps_per_epoch=3243, epochs=30)`\n",
      "  app.launch_new_instance()\n"
     ]
    },
    {
     "name": "stdout",
     "output_type": "stream",
     "text": [
      "Epoch 1/30\n",
      "3243/3243 [==============================] - 194s 60ms/step - loss: 1.9425 - acc: 0.4623 - val_loss: 0.4934 - val_acc: 0.8989\n",
      "Epoch 2/30\n",
      "3243/3243 [==============================] - 199s 61ms/step - loss: 0.8027 - acc: 0.7916 - val_loss: 0.3703 - val_acc: 0.9384\n",
      "Epoch 3/30\n",
      "3243/3243 [==============================] - 184s 57ms/step - loss: 0.6178 - acc: 0.8530 - val_loss: 0.3203 - val_acc: 0.9507 loss: 0.6197 - acc: 0.852 - ET - ETA: 3s - loss: 0.6191 - \n",
      "Epoch 4/30\n",
      "3243/3243 [==============================] - 188s 58ms/step - loss: 0.5426 - acc: 0.8773 - val_loss: 0.3677 - val_acc: 0.9287\n",
      "Epoch 5/30\n",
      "3243/3243 [==============================] - 194s 60ms/step - loss: 0.5088 - acc: 0.8865 - val_loss: 0.2803 - val_acc: 0.9607\n",
      "Epoch 6/30\n",
      "3243/3243 [==============================] - 190s 58ms/step - loss: 0.4936 - acc: 0.8939 - val_loss: 0.3289 - val_acc: 0.9449\n",
      "Epoch 7/30\n",
      "3243/3243 [==============================] - 191s 59ms/step - loss: 0.4832 - acc: 0.8971 - val_loss: 0.2701 - val_acc: 0.9608\n",
      "Epoch 8/30\n",
      "3243/3243 [==============================] - 184s 57ms/step - loss: 0.4795 - acc: 0.8967 - val_loss: 0.3074 - val_acc: 0.9541\n",
      "Epoch 9/30\n",
      "3243/3243 [==============================] - 215s 66ms/step - loss: 0.4809 - acc: 0.8992 - val_loss: 0.3546 - val_acc: 0.9426\n",
      "Epoch 10/30\n",
      "3243/3243 [==============================] - 209s 64ms/step - loss: 0.4856 - acc: 0.8986 - val_loss: 0.3262 - val_acc: 0.9496\n",
      "Epoch 11/30\n",
      "3243/3243 [==============================] - 182s 56ms/step - loss: 0.4876 - acc: 0.9000 - val_loss: 0.3233 - val_acc: 0.9481\n",
      "Epoch 12/30\n",
      "3243/3243 [==============================] - 196s 60ms/step - loss: 0.4986 - acc: 0.8986 - val_loss: 0.2904 - val_acc: 0.9600\n",
      "Epoch 13/30\n",
      "3243/3243 [==============================] - 190s 59ms/step - loss: 0.5069 - acc: 0.8958 - val_loss: 0.3298 - val_acc: 0.9500\n",
      "Epoch 14/30\n",
      "3243/3243 [==============================] - 177s 55ms/step - loss: 0.5114 - acc: 0.8946 - val_loss: 0.3156 - val_acc: 0.9607s: 0.5 - ETA: 0s - loss: 0.51\n",
      "Epoch 15/30\n",
      "3243/3243 [==============================] - 182s 56ms/step - loss: 0.5289 - acc: 0.8912 - val_loss: 0.3102 - val_acc: 0.9609\n",
      "Epoch 16/30\n",
      "3243/3243 [==============================] - 178s 55ms/step - loss: 0.5357 - acc: 0.8910 - val_loss: 0.3164 - val_acc: 0.9603\n",
      "Epoch 17/30\n",
      "3243/3243 [==============================] - 209s 65ms/step - loss: 0.5416 - acc: 0.8900 - val_loss: 0.3533 - val_acc: 0.9466\n",
      "Epoch 18/30\n",
      "3243/3243 [==============================] - 210s 65ms/step - loss: 0.5618 - acc: 0.8876 - val_loss: 0.2906 - val_acc: 0.9624\n",
      "Epoch 19/30\n",
      "3243/3243 [==============================] - 197s 61ms/step - loss: 0.5710 - acc: 0.8837 - val_loss: 0.3165 - val_acc: 0.9573\n",
      "Epoch 20/30\n",
      "3243/3243 [==============================] - 189s 58ms/step - loss: 0.5714 - acc: 0.8846 - val_loss: 0.3204 - val_acc: 0.9581\n",
      "Epoch 21/30\n",
      "3243/3243 [==============================] - 203s 63ms/step - loss: 0.5925 - acc: 0.8842 - val_loss: 0.3266 - val_acc: 0.9608\n",
      "Epoch 22/30\n",
      "3243/3243 [==============================] - 204s 63ms/step - loss: 0.5956 - acc: 0.8804 - val_loss: 0.3220 - val_acc: 0.9567\n",
      "Epoch 23/30\n",
      "3243/3243 [==============================] - 198s 61ms/step - loss: 0.6202 - acc: 0.8784 - val_loss: 0.3365 - val_acc: 0.9559\n",
      "Epoch 24/30\n",
      "3243/3243 [==============================] - 196s 60ms/step - loss: 0.6184 - acc: 0.8758 - val_loss: 0.3165 - val_acc: 0.9583\n",
      "Epoch 25/30\n",
      "3243/3243 [==============================] - 199s 61ms/step - loss: 0.6413 - acc: 0.8706 - val_loss: 0.3112 - val_acc: 0.9595\n",
      "Epoch 26/30\n",
      "3243/3243 [==============================] - 204s 63ms/step - loss: 0.6516 - acc: 0.8691 - val_loss: 0.3206 - val_acc: 0.9595\n",
      "Epoch 27/30\n",
      "3243/3243 [==============================] - 195s 60ms/step - loss: 0.6493 - acc: 0.8706 - val_loss: 0.7609 - val_acc: 0.9088\n",
      "Epoch 28/30\n",
      "3243/3243 [==============================] - 192s 59ms/step - loss: 0.6761 - acc: 0.8666 - val_loss: 0.3209 - val_acc: 0.9587\n",
      "Epoch 29/30\n",
      "3243/3243 [==============================] - 186s 57ms/step - loss: 0.6747 - acc: 0.8663 - val_loss: 0.3647 - val_acc: 0.9549\n",
      "Epoch 30/30\n",
      "3243/3243 [==============================] - 189s 58ms/step - loss: 0.6894 - acc: 0.8639 - val_loss: 0.4023 - val_acc: 0.9439\n"
     ]
    },
    {
     "data": {
      "text/plain": [
       "<keras.callbacks.History at 0x10d005f28>"
      ]
     },
     "execution_count": 4,
     "metadata": {},
     "output_type": "execute_result"
    }
   ],
   "source": [
    "model.compile(loss='categorical_crossentropy', optimizer='adadelta', metrics=['accuracy'])\n",
    "model.fit_generator(datagen.flow(X_train, Y_train, batch_size=16), samples_per_epoch=X_train.shape[0],\n",
    "                    nb_epoch=30, validation_data=(X_test, Y_test))"
   ]
  },
  {
   "cell_type": "markdown",
   "metadata": {},
   "source": [
    "## Remove dropouts after the training is done"
   ]
  },
  {
   "cell_type": "code",
   "execution_count": 5,
   "metadata": {
    "collapsed": true
   },
   "outputs": [],
   "source": [
    "import keras\n",
    "for k in model.layers:\n",
    "    if type(k) is keras.layers.Dropout:\n",
    "        model.layers.remove(k)"
   ]
  },
  {
   "cell_type": "code",
   "execution_count": 7,
   "metadata": {
    "collapsed": true
   },
   "outputs": [],
   "source": [
    "model.save('katakanaModel.h5')"
   ]
  },
  {
   "cell_type": "code",
   "execution_count": null,
   "metadata": {
    "collapsed": true
   },
   "outputs": [],
   "source": []
  }
 ],
 "metadata": {
  "kernelspec": {
   "display_name": "Python [default]",
   "language": "python",
   "name": "python3"
  },
  "language_info": {
   "codemirror_mode": {
    "name": "ipython",
    "version": 3
   },
   "file_extension": ".py",
   "mimetype": "text/x-python",
   "name": "python",
   "nbconvert_exporter": "python",
   "pygments_lexer": "ipython3",
   "version": "3.6.3"
  }
 },
 "nbformat": 4,
 "nbformat_minor": 2
}
