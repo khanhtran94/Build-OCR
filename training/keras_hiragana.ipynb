{
 "cells": [
  {
   "cell_type": "code",
   "execution_count": 2,
   "metadata": {
    "collapsed": true
   },
   "outputs": [],
   "source": [
    "import numpy as np\n",
    "import scipy.misc\n",
    "from keras import backend as K\n",
    "from keras.layers import Conv2D, MaxPooling2D\n",
    "from keras.layers import Dense, Dropout, Activation, Flatten\n",
    "from keras.models import Sequential\n",
    "from keras.preprocessing.image import ImageDataGenerator\n",
    "from keras.utils import np_utils\n",
    "from sklearn.model_selection import train_test_split"
   ]
  },
  {
   "cell_type": "markdown",
   "metadata": {},
   "source": [
    "# Building Hiragana Model with CNN"
   ]
  },
  {
   "cell_type": "code",
   "execution_count": 5,
   "metadata": {
    "scrolled": false
   },
   "outputs": [
    {
     "name": "stdout",
     "output_type": "stream",
     "text": [
      "_________________________________________________________________\n",
      "Layer (type)                 Output Shape              Param #   \n",
      "=================================================================\n",
      "conv2d_5 (Conv2D)            (None, 30, 30, 32)        320       \n",
      "_________________________________________________________________\n",
      "activation_7 (Activation)    (None, 30, 30, 32)        0         \n",
      "_________________________________________________________________\n",
      "conv2d_6 (Conv2D)            (None, 28, 28, 32)        9248      \n",
      "_________________________________________________________________\n",
      "activation_8 (Activation)    (None, 28, 28, 32)        0         \n",
      "_________________________________________________________________\n",
      "max_pooling2d_3 (MaxPooling2 (None, 14, 14, 32)        0         \n",
      "_________________________________________________________________\n",
      "dropout_4 (Dropout)          (None, 14, 14, 32)        0         \n",
      "_________________________________________________________________\n",
      "conv2d_7 (Conv2D)            (None, 12, 12, 64)        18496     \n",
      "_________________________________________________________________\n",
      "activation_9 (Activation)    (None, 12, 12, 64)        0         \n",
      "_________________________________________________________________\n",
      "conv2d_8 (Conv2D)            (None, 10, 10, 64)        36928     \n",
      "_________________________________________________________________\n",
      "activation_10 (Activation)   (None, 10, 10, 64)        0         \n",
      "_________________________________________________________________\n",
      "max_pooling2d_4 (MaxPooling2 (None, 5, 5, 64)          0         \n",
      "_________________________________________________________________\n",
      "dropout_5 (Dropout)          (None, 5, 5, 64)          0         \n",
      "_________________________________________________________________\n",
      "flatten_2 (Flatten)          (None, 1600)              0         \n",
      "_________________________________________________________________\n",
      "dense_3 (Dense)              (None, 256)               409856    \n",
      "_________________________________________________________________\n",
      "activation_11 (Activation)   (None, 256)               0         \n",
      "_________________________________________________________________\n",
      "dropout_6 (Dropout)          (None, 256)               0         \n",
      "_________________________________________________________________\n",
      "dense_4 (Dense)              (None, 71)                18247     \n",
      "_________________________________________________________________\n",
      "activation_12 (Activation)   (None, 71)                0         \n",
      "=================================================================\n",
      "Total params: 493,095\n",
      "Trainable params: 493,095\n",
      "Non-trainable params: 0\n",
      "_________________________________________________________________\n"
     ]
    },
    {
     "name": "stderr",
     "output_type": "stream",
     "text": [
      "/anaconda3/lib/python3.6/site-packages/ipykernel/__main__.py:34: UserWarning: Update your `Conv2D` call to the Keras 2 API: `Conv2D(32, (3, 3), input_shape=(32, 32, 1...)`\n",
      "/anaconda3/lib/python3.6/site-packages/ipykernel/__main__.py:36: UserWarning: Update your `Conv2D` call to the Keras 2 API: `Conv2D(32, (3, 3))`\n",
      "/anaconda3/lib/python3.6/site-packages/ipykernel/__main__.py:41: UserWarning: Update your `Conv2D` call to the Keras 2 API: `Conv2D(64, (3, 3))`\n",
      "/anaconda3/lib/python3.6/site-packages/ipykernel/__main__.py:43: UserWarning: Update your `Conv2D` call to the Keras 2 API: `Conv2D(64, (3, 3))`\n"
     ]
    }
   ],
   "source": [
    "nb_classes = 71\n",
    "# input image dimensions\n",
    "img_rows, img_cols = 32, 32\n",
    "# img_rows, img_cols = 127, 128\n",
    "\n",
    "ary = np.load(\"hiragana.npz\")['arr_0'].reshape([-1, 127, 128]).astype(np.float32) / 15\n",
    "X_train = np.zeros([nb_classes * 160, img_rows, img_cols], dtype=np.float32)\n",
    "for i in range(nb_classes * 160):\n",
    "    X_train[i] = scipy.misc.imresize(ary[i], (img_rows, img_cols), mode='F')\n",
    "    # X_train[i] = ary[i]\n",
    "y_train = np.repeat(np.arange(nb_classes), 160)\n",
    "\n",
    "X_train, X_test, y_train, y_test = train_test_split(X_train, y_train, test_size=0.2)\n",
    "\n",
    "if K.image_dim_ordering() == 'th':\n",
    "    X_train = X_train.reshape(X_train.shape[0], 1, img_rows, img_cols)\n",
    "    X_test = X_test.reshape(X_test.shape[0], 1, img_rows, img_cols)\n",
    "    input_shape = (1, img_rows, img_cols)\n",
    "else:\n",
    "    X_train = X_train.reshape(X_train.shape[0], img_rows, img_cols, 1)\n",
    "    X_test = X_test.reshape(X_test.shape[0], img_rows, img_cols, 1)\n",
    "    input_shape = (img_rows, img_cols, 1)\n",
    "\n",
    "# convert class vectors to categorical matrices\n",
    "y_train = np_utils.to_categorical(y_train, nb_classes)\n",
    "y_test = np_utils.to_categorical(y_test, nb_classes)\n",
    "\n",
    "datagen = ImageDataGenerator(rotation_range=15, zoom_range=0.20)\n",
    "datagen.fit(X_train)\n",
    "\n",
    "model = Sequential()\n",
    "\n",
    "def model_6_layers():\n",
    "    model.add(Conv2D(32, 3, 3, input_shape=input_shape))\n",
    "    model.add(Activation('relu'))\n",
    "    model.add(Conv2D(32, 3, 3))\n",
    "    model.add(Activation('relu'))\n",
    "    model.add(MaxPooling2D(pool_size=(2, 2)))\n",
    "    model.add(Dropout(0.5))\n",
    "\n",
    "    model.add(Conv2D(64, 3, 3))\n",
    "    model.add(Activation('relu'))\n",
    "    model.add(Conv2D(64, 3, 3))\n",
    "    model.add(Activation('relu'))\n",
    "    model.add(MaxPooling2D(pool_size=(2, 2)))\n",
    "    model.add(Dropout(0.5))\n",
    "\n",
    "    model.add(Flatten())\n",
    "    model.add(Dense(256))\n",
    "    model.add(Activation('relu'))\n",
    "    model.add(Dropout(0.5))\n",
    "    model.add(Dense(nb_classes))\n",
    "    model.add(Activation('softmax'))\n",
    "\n",
    "\n",
    "model_6_layers()\n",
    "\n",
    "model.summary()"
   ]
  },
  {
   "cell_type": "code",
   "execution_count": 3,
   "metadata": {},
   "outputs": [
    {
     "name": "stderr",
     "output_type": "stream",
     "text": [
      "/anaconda3/lib/python3.6/site-packages/ipykernel/__main__.py:3: UserWarning: The semantics of the Keras 2 argument `steps_per_epoch` is not the same as the Keras 1 argument `samples_per_epoch`. `steps_per_epoch` is the number of batches to draw from the generator at each epoch. Basically steps_per_epoch = samples_per_epoch/batch_size. Similarly `nb_val_samples`->`validation_steps` and `val_samples`->`steps` arguments have changed. Update your method calls accordingly.\n",
      "  app.launch_new_instance()\n",
      "/anaconda3/lib/python3.6/site-packages/ipykernel/__main__.py:3: UserWarning: Update your `fit_generator` call to the Keras 2 API: `fit_generator(<keras.pre..., validation_data=(array([[[..., steps_per_epoch=568, epochs=30)`\n",
      "  app.launch_new_instance()\n"
     ]
    },
    {
     "name": "stdout",
     "output_type": "stream",
     "text": [
      "Epoch 1/30\n",
      "568/568 [==============================] - 31s 54ms/step - loss: 3.7402 - acc: 0.1004 - val_loss: 2.1078 - val_acc: 0.4674\n",
      "Epoch 2/30\n",
      "568/568 [==============================] - 31s 55ms/step - loss: 2.2415 - acc: 0.3815 - val_loss: 0.9288 - val_acc: 0.7548\n",
      "Epoch 3/30\n",
      "568/568 [==============================] - 34s 60ms/step - loss: 1.5071 - acc: 0.5540 - val_loss: 0.6714 - val_acc: 0.8301\n",
      "Epoch 4/30\n",
      "568/568 [==============================] - 32s 56ms/step - loss: 1.1612 - acc: 0.6444 - val_loss: 0.5729 - val_acc: 0.8235\n",
      "Epoch 5/30\n",
      "568/568 [==============================] - 35s 61ms/step - loss: 0.9559 - acc: 0.7020 - val_loss: 0.3449 - val_acc: 0.9036\n",
      "Epoch 6/30\n",
      "568/568 [==============================] - 35s 62ms/step - loss: 0.8271 - acc: 0.7408 - val_loss: 0.2986 - val_acc: 0.9133\n",
      "Epoch 7/30\n",
      "568/568 [==============================] - 44s 78ms/step - loss: 0.7284 - acc: 0.7715 - val_loss: 0.2758 - val_acc: 0.9098\n",
      "Epoch 8/30\n",
      "568/568 [==============================] - 33s 57ms/step - loss: 0.6485 - acc: 0.7916 - val_loss: 0.2390 - val_acc: 0.9269\n",
      "Epoch 9/30\n",
      "568/568 [==============================] - 37s 65ms/step - loss: 0.5880 - acc: 0.8083 - val_loss: 0.1931 - val_acc: 0.9410\n",
      "Epoch 10/30\n",
      "568/568 [==============================] - 33s 57ms/step - loss: 0.5372 - acc: 0.8286 - val_loss: 0.1612 - val_acc: 0.9476\n",
      "Epoch 11/30\n",
      "568/568 [==============================] - 31s 55ms/step - loss: 0.4940 - acc: 0.8411 - val_loss: 0.1770 - val_acc: 0.9454\n",
      "Epoch 12/30\n",
      "568/568 [==============================] - 33s 58ms/step - loss: 0.4608 - acc: 0.8497 - val_loss: 0.1406 - val_acc: 0.9538\n",
      "Epoch 13/30\n",
      "568/568 [==============================] - 33s 58ms/step - loss: 0.4208 - acc: 0.8633 - val_loss: 0.1100 - val_acc: 0.9661\n",
      "Epoch 14/30\n",
      "568/568 [==============================] - 34s 60ms/step - loss: 0.4110 - acc: 0.8696 - val_loss: 0.1088 - val_acc: 0.9661\n",
      "Epoch 15/30\n",
      "568/568 [==============================] - 34s 61ms/step - loss: 0.3725 - acc: 0.8780 - val_loss: 0.1033 - val_acc: 0.9674\n",
      "Epoch 16/30\n",
      "568/568 [==============================] - 36s 64ms/step - loss: 0.3529 - acc: 0.8867 - val_loss: 0.0829 - val_acc: 0.9749\n",
      "Epoch 17/30\n",
      "568/568 [==============================] - 36s 63ms/step - loss: 0.3517 - acc: 0.8882 - val_loss: 0.0780 - val_acc: 0.9758\n",
      "Epoch 18/30\n",
      "568/568 [==============================] - 35s 61ms/step - loss: 0.3269 - acc: 0.8959 - val_loss: 0.0730 - val_acc: 0.9776\n",
      "Epoch 19/30\n",
      "568/568 [==============================] - 34s 60ms/step - loss: 0.3154 - acc: 0.8946 - val_loss: 0.0812 - val_acc: 0.9754\n",
      "Epoch 20/30\n",
      "568/568 [==============================] - 33s 58ms/step - loss: 0.3019 - acc: 0.9038 - val_loss: 0.0618 - val_acc: 0.9784\n",
      "Epoch 21/30\n",
      "568/568 [==============================] - 33s 58ms/step - loss: 0.2885 - acc: 0.9100 - val_loss: 0.0694 - val_acc: 0.9762\n",
      "Epoch 22/30\n",
      "568/568 [==============================] - 36s 63ms/step - loss: 0.2662 - acc: 0.9156 - val_loss: 0.0574 - val_acc: 0.9833\n",
      "Epoch 23/30\n",
      "568/568 [==============================] - 34s 60ms/step - loss: 0.2729 - acc: 0.9171 - val_loss: 0.0592 - val_acc: 0.9802\n",
      "Epoch 24/30\n",
      "568/568 [==============================] - 38s 66ms/step - loss: 0.2521 - acc: 0.9179 - val_loss: 0.0523 - val_acc: 0.9855\n",
      "Epoch 25/30\n",
      "568/568 [==============================] - 35s 61ms/step - loss: 0.2391 - acc: 0.9245 - val_loss: 0.0451 - val_acc: 0.9850\n",
      "Epoch 26/30\n",
      "568/568 [==============================] - 33s 59ms/step - loss: 0.2354 - acc: 0.9272 - val_loss: 0.0534 - val_acc: 0.9828\n",
      "Epoch 27/30\n",
      "568/568 [==============================] - 34s 60ms/step - loss: 0.2320 - acc: 0.9259 - val_loss: 0.0453 - val_acc: 0.9855\n",
      "Epoch 28/30\n",
      "568/568 [==============================] - 34s 59ms/step - loss: 0.2305 - acc: 0.9280 - val_loss: 0.0418 - val_acc: 0.9886\n",
      "Epoch 29/30\n",
      "568/568 [==============================] - 34s 59ms/step - loss: 0.2103 - acc: 0.9338 - val_loss: 0.0409 - val_acc: 0.9872\n",
      "Epoch 30/30\n",
      "568/568 [==============================] - 34s 60ms/step - loss: 0.2184 - acc: 0.9317 - val_loss: 0.0367 - val_acc: 0.9877\n"
     ]
    },
    {
     "data": {
      "text/plain": [
       "<keras.callbacks.History at 0x1a1f57f978>"
      ]
     },
     "execution_count": 3,
     "metadata": {},
     "output_type": "execute_result"
    }
   ],
   "source": [
    "model.compile(loss='categorical_crossentropy', optimizer='adam', metrics=['accuracy'])\n",
    "model.fit_generator(datagen.flow(X_train, y_train, batch_size=16), samples_per_epoch=X_train.shape[0],\n",
    "                    nb_epoch=30, validation_data=(X_test, y_test))"
   ]
  },
  {
   "cell_type": "markdown",
   "metadata": {},
   "source": [
    "## Remove dropouts after the training is done"
   ]
  },
  {
   "cell_type": "code",
   "execution_count": 4,
   "metadata": {
    "collapsed": true
   },
   "outputs": [],
   "source": [
    "import keras\n",
    "for k in model.layers:\n",
    "    if type(k) is keras.layers.Dropout:\n",
    "        model.layers.remove(k)"
   ]
  },
  {
   "cell_type": "code",
   "execution_count": 5,
   "metadata": {},
   "outputs": [
    {
     "name": "stdout",
     "output_type": "stream",
     "text": [
      "_________________________________________________________________\n",
      "Layer (type)                 Output Shape              Param #   \n",
      "=================================================================\n",
      "conv2d_1 (Conv2D)            (None, 30, 30, 32)        320       \n",
      "_________________________________________________________________\n",
      "activation_1 (Activation)    (None, 30, 30, 32)        0         \n",
      "_________________________________________________________________\n",
      "conv2d_2 (Conv2D)            (None, 28, 28, 32)        9248      \n",
      "_________________________________________________________________\n",
      "activation_2 (Activation)    (None, 28, 28, 32)        0         \n",
      "_________________________________________________________________\n",
      "max_pooling2d_1 (MaxPooling2 (None, 14, 14, 32)        0         \n",
      "_________________________________________________________________\n",
      "conv2d_3 (Conv2D)            (None, 12, 12, 64)        18496     \n",
      "_________________________________________________________________\n",
      "activation_3 (Activation)    (None, 12, 12, 64)        0         \n",
      "_________________________________________________________________\n",
      "conv2d_4 (Conv2D)            (None, 10, 10, 64)        36928     \n",
      "_________________________________________________________________\n",
      "activation_4 (Activation)    (None, 10, 10, 64)        0         \n",
      "_________________________________________________________________\n",
      "max_pooling2d_2 (MaxPooling2 (None, 5, 5, 64)          0         \n",
      "_________________________________________________________________\n",
      "flatten_1 (Flatten)          (None, 1600)              0         \n",
      "_________________________________________________________________\n",
      "dense_1 (Dense)              (None, 256)               409856    \n",
      "_________________________________________________________________\n",
      "activation_5 (Activation)    (None, 256)               0         \n",
      "_________________________________________________________________\n",
      "dense_2 (Dense)              (None, 71)                18247     \n",
      "_________________________________________________________________\n",
      "activation_6 (Activation)    (None, 71)                0         \n",
      "=================================================================\n",
      "Total params: 493,095\n",
      "Trainable params: 493,095\n",
      "Non-trainable params: 0\n",
      "_________________________________________________________________\n"
     ]
    }
   ],
   "source": [
    "model.summary()"
   ]
  },
  {
   "cell_type": "code",
   "execution_count": 6,
   "metadata": {
    "collapsed": true
   },
   "outputs": [],
   "source": [
    "model.save('hiraganaModel.h5')"
   ]
  },
  {
   "cell_type": "code",
   "execution_count": null,
   "metadata": {
    "collapsed": true
   },
   "outputs": [],
   "source": []
  }
 ],
 "metadata": {
  "kernelspec": {
   "display_name": "Python [default]",
   "language": "python",
   "name": "python3"
  },
  "language_info": {
   "codemirror_mode": {
    "name": "ipython",
    "version": 3
   },
   "file_extension": ".py",
   "mimetype": "text/x-python",
   "name": "python",
   "nbconvert_exporter": "python",
   "pygments_lexer": "ipython3",
   "version": "3.6.3"
  }
 },
 "nbformat": 4,
 "nbformat_minor": 2
}
