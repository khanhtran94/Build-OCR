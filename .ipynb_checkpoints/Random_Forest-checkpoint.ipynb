{
 "cells": [
  {
   "cell_type": "code",
   "execution_count": 2,
   "metadata": {
    "collapsed": true
   },
   "outputs": [],
   "source": [
    "import numpy as np\n",
    "np.random.seed(0)\n",
    "import scipy.misc\n",
    "from sklearn.naive_bayes import GaussianNB\n",
    "from sklearn.model_selection import train_test_split, cross_val_score\n",
    "from sklearn.metrics import accuracy_score, f1_score\n",
    "import time"
   ]
  },
  {
   "cell_type": "markdown",
   "metadata": {},
   "source": []
  },
  {
   "cell_type": "code",
   "execution_count": 40,
   "metadata": {
    "collapsed": true
   },
   "outputs": [],
   "source": [
    "nb_classes = 71\n",
    "# input image dimensions\n",
    "img_rows, img_cols = 32, 32\n",
    "# img_rows, img_cols = 127, 128\n",
    "\n",
    "ary = np.load(\"hiragana.npz\")['arr_0'].reshape([-1, 127, 128]).astype(np.float32) / 15\n",
    "X_train = np.zeros([nb_classes * 160, img_rows, img_cols], dtype=np.float32)\n",
    "for i in range(nb_classes * 160):\n",
    "    X_train[i] = scipy.misc.imresize(ary[i], (img_rows, img_cols), mode='F')\n",
    "    # X_train[i] = ary[i]\n",
    "Y_train = np.repeat(np.arange(nb_classes), 160)\n",
    "\n",
    "X_train, X_test, y_train, y_test = train_test_split(X_train, Y_train, test_size=0.2)"
   ]
  },
  {
   "cell_type": "code",
   "execution_count": 47,
   "metadata": {},
   "outputs": [
    {
     "data": {
      "text/plain": [
       "(11360,)"
      ]
     },
     "execution_count": 47,
     "metadata": {},
     "output_type": "execute_result"
    }
   ],
   "source": [
    "Y_train.shape"
   ]
  },
  {
   "cell_type": "code",
   "execution_count": 41,
   "metadata": {},
   "outputs": [
    {
     "data": {
      "text/plain": [
       "(9088, 1024)"
      ]
     },
     "execution_count": 41,
     "metadata": {},
     "output_type": "execute_result"
    }
   ],
   "source": [
    "nsamples, nx, ny = X_train.shape\n",
    "train_dataset = X_train.reshape((nsamples,nx*ny))\n",
    "train_dataset.shape"
   ]
  },
  {
   "cell_type": "code",
   "execution_count": 42,
   "metadata": {},
   "outputs": [
    {
     "data": {
      "text/plain": [
       "(2272, 1024)"
      ]
     },
     "execution_count": 42,
     "metadata": {},
     "output_type": "execute_result"
    }
   ],
   "source": [
    "nsamples, nx, ny = X_test.shape\n",
    "test_dataset = X_test.reshape((nsamples,nx*ny))\n",
    "test_dataset.shape"
   ]
  },
  {
   "cell_type": "code",
   "execution_count": 8,
   "metadata": {},
   "outputs": [
    {
     "data": {
      "text/plain": [
       "(2272,)"
      ]
     },
     "execution_count": 8,
     "metadata": {},
     "output_type": "execute_result"
    }
   ],
   "source": [
    "y_test.shape"
   ]
  },
  {
   "cell_type": "markdown",
   "metadata": {},
   "source": [
    "## Regular Charcters; 46 classes"
   ]
  },
  {
   "cell_type": "code",
   "execution_count": 29,
   "metadata": {
    "collapsed": true
   },
   "outputs": [],
   "source": [
    "nb_classes1 = 46 # regular charcters\n",
    "# input image dimensions\n",
    "img_rows, img_cols = 32, 32\n",
    "# img_rows, img_cols = 127, 128\n",
    "\n",
    "ary1 = np.load(\"regular_hiragana.npz\")['arr_0'].reshape([-1, 127, 128]).astype(np.float32) / 15\n",
    "X_train1 = np.zeros([nb_classes1 * 160, img_rows, img_cols], dtype=np.float32)\n",
    "for i in range(nb_classes * 160):\n",
    "    X_train1[i] = scipy.misc.imresize(ary1[i], (img_rows, img_cols), mode='F')\n",
    "    # X_train[i] = ary[i]\n",
    "Y_train1 = np.repeat(np.arange(nb_classes1), 160)\n",
    "\n",
    "X_train1, X_test1, y_train1, y_test1 = train_test_split(X_train1, Y_train1, test_size=0.2)"
   ]
  },
  {
   "cell_type": "code",
   "execution_count": 30,
   "metadata": {},
   "outputs": [
    {
     "data": {
      "text/plain": [
       "(5888, 1024)"
      ]
     },
     "execution_count": 30,
     "metadata": {},
     "output_type": "execute_result"
    }
   ],
   "source": [
    "nsamples, nx, ny = X_train1.shape\n",
    "train_dataset1 = X_train1.reshape((nsamples,nx*ny))\n",
    "train_dataset1.shape"
   ]
  },
  {
   "cell_type": "code",
   "execution_count": 31,
   "metadata": {},
   "outputs": [
    {
     "data": {
      "text/plain": [
       "(1472, 1024)"
      ]
     },
     "execution_count": 31,
     "metadata": {},
     "output_type": "execute_result"
    }
   ],
   "source": [
    "nsamples, nx, ny = X_test1.shape\n",
    "test_dataset1 = X_test1.reshape((nsamples,nx*ny))\n",
    "test_dataset1.shape"
   ]
  },
  {
   "cell_type": "code",
   "execution_count": 32,
   "metadata": {},
   "outputs": [
    {
     "name": "stdout",
     "output_type": "stream",
     "text": [
      "--- 0.5027966499328613 seconds ---\n",
      "[12 22  6 ...,  6  4  4]\n",
      "[ 7 35  6 ..., 34 33 43]\n",
      "accuracy score: 0.3294836956521739\n",
      "f1 score: 0.3294836956521739\n"
     ]
    }
   ],
   "source": [
    "clf1 = GaussianNB()\n",
    "start_time = time.time()\n",
    "clf1.fit(train_dataset1, y_train1)\n",
    "\n",
    "# Use the fitted model to create predictions for the X_test data.\n",
    "preds1 = clf1.predict(test_dataset1)\n",
    "print(\"--- %s seconds ---\" % (time.time() - start_time))\n",
    "\n",
    "# Run it all and see how you did!\n",
    "print(preds1)\n",
    "print(y_test1)\n",
    "print(\"accuracy score: {}\".format(accuracy_score(y_test1, preds1)))\n",
    "print(\"f1 score: {}\".format(f1_score(y_test1, preds1, average='micro')))"
   ]
  },
  {
   "cell_type": "markdown",
   "metadata": {},
   "source": [
    "## Voiced Characters; 25 classes"
   ]
  },
  {
   "cell_type": "code",
   "execution_count": 34,
   "metadata": {},
   "outputs": [
    {
     "data": {
      "text/plain": [
       "(800, 1024)"
      ]
     },
     "execution_count": 34,
     "metadata": {},
     "output_type": "execute_result"
    }
   ],
   "source": [
    "nb_classes2 = 25 \n",
    "# input image dimensions\n",
    "img_rows, img_cols = 32, 32\n",
    "# img_rows, img_cols = 127, 128\n",
    "\n",
    "ary2 = np.load(\"voiced_hiragana.npz\")['arr_0'].reshape([-1, 127, 128]).astype(np.float32) / 15\n",
    "X_train2 = np.zeros([nb_classes2 * 160, img_rows, img_cols], dtype=np.float32)\n",
    "for i in range(nb_classes2 * 160):\n",
    "    X_train2[i] = scipy.misc.imresize(ary2[i], (img_rows, img_cols), mode='F')\n",
    "    # X_train[i] = ary[i]\n",
    "Y_train2 = np.repeat(np.arange(nb_classes2), 160)\n",
    "\n",
    "X_train2, X_test2, y_train2, y_test2 = train_test_split(X_train2, Y_train2, test_size=0.2)\n",
    "\n",
    "nsamples, nx, ny = X_train2.shape\n",
    "train_dataset2 = X_train2.reshape((nsamples,nx*ny))\n",
    "train_dataset2.shape\n",
    "\n",
    "nsamples, nx, ny = X_test2.shape\n",
    "test_dataset2 = X_test2.reshape((nsamples,nx*ny))\n",
    "test_dataset2.shape"
   ]
  },
  {
   "cell_type": "markdown",
   "metadata": {},
   "source": [
    "# Random Forest\n",
    "## Every single character; 71 classes\n",
    "The accuracy of our model goes up as we increase number of estimators and max depth of each model in the forest"
   ]
  },
  {
   "cell_type": "code",
   "execution_count": 10,
   "metadata": {},
   "outputs": [
    {
     "name": "stdout",
     "output_type": "stream",
     "text": [
      "--- 7.933804035186768 seconds ---\n",
      "[ 2 41 29 ..., 60  8 11]\n",
      "[ 2 41 29 ..., 60  8 11]\n",
      "accuracy score: 0.7922535211267606\n",
      "f1 score: 0.7922535211267606\n"
     ]
    }
   ],
   "source": [
    "from sklearn.ensemble import RandomForestClassifier\n",
    "random_forest_clf = RandomForestClassifier(n_estimators=100, max_depth=32, random_state=4, min_samples_split=5)\n",
    "\n",
    "start_time = time.time()\n",
    "random_forest_clf.fit(train_dataset, y_train)\n",
    "ranf_preds = random_forest_clf.predict(test_dataset)\n",
    "print(\"--- %s seconds ---\" % (time.time() - start_time))\n",
    "\n",
    "print(ranf_preds)\n",
    "print(y_test)\n",
    "print(\"accuracy score: {}\".format(accuracy_score(y_test, ranf_preds)))\n",
    "print(\"f1 score: {}\".format(f1_score(y_test, ranf_preds, average='micro')))"
   ]
  },
  {
   "cell_type": "code",
   "execution_count": 44,
   "metadata": {},
   "outputs": [
    {
     "name": "stdout",
     "output_type": "stream",
     "text": [
      "--- 5.8320488929748535 seconds ---\n",
      "[ 7  8 32 ..., 30 37 57]\n",
      "[32 58 31 ..., 51 38 57]\n",
      "accuracy score: 0.5268485915492958\n",
      "f1 score: 0.5268485915492958\n"
     ]
    }
   ],
   "source": [
    "random_forest_clf2 = RandomForestClassifier(n_estimators=200, max_depth=4, random_state=4, min_samples_split=5)\n",
    "start_time = time.time()\n",
    "random_forest_clf2.fit(train_dataset, y_train)\n",
    "ranf_preds2 = random_forest_clf2.predict(test_dataset)\n",
    "print(\"--- %s seconds ---\" % (time.time() - start_time))\n",
    "\n",
    "print(ranf_preds2)\n",
    "print(y_test)\n",
    "print(\"accuracy score: {}\".format(accuracy_score(y_test, ranf_preds2)))\n",
    "print(\"f1 score: {}\".format(f1_score(y_test, ranf_preds2, average='micro')))"
   ]
  },
  {
   "cell_type": "code",
   "execution_count": 12,
   "metadata": {},
   "outputs": [
    {
     "name": "stdout",
     "output_type": "stream",
     "text": [
      "--- 0.8060579299926758 seconds ---\n",
      "[ 2 41 29 ..., 60  8 11]\n",
      "[ 2 41 29 ..., 60  8 11]\n",
      "accuracy score: 0.6201584507042254\n",
      "f1 score: 0.6201584507042254\n"
     ]
    }
   ],
   "source": [
    "random_forest_clf3 = RandomForestClassifier(n_estimators=10, max_depth=20, random_state=4, min_samples_split=5)\n",
    "start_time = time.time()\n",
    "random_forest_clf3.fit(train_dataset, y_train)\n",
    "ranf_preds3 = random_forest_clf3.predict(test_dataset)\n",
    "print(\"--- %s seconds ---\" % (time.time() - start_time))\n",
    "\n",
    "print(ranf_preds)\n",
    "print(y_test)\n",
    "print(\"accuracy score: {}\".format(accuracy_score(y_test, ranf_preds3)))\n",
    "print(\"f1 score: {}\".format(f1_score(y_test, ranf_preds3, average='micro')))"
   ]
  },
  {
   "cell_type": "code",
   "execution_count": 13,
   "metadata": {},
   "outputs": [
    {
     "name": "stdout",
     "output_type": "stream",
     "text": [
      "--- 0.8063750267028809 seconds ---\n",
      "[ 2 41 29 ..., 60  8 11]\n",
      "[ 2 41 29 ..., 60  8 11]\n",
      "accuracy score: 0.6095950704225352\n",
      "f1 score: 0.6095950704225352\n"
     ]
    }
   ],
   "source": [
    "random_forest_clf4 = RandomForestClassifier(n_estimators=10, max_depth=30, random_state=4, min_samples_split=5)\n",
    "start_time = time.time()\n",
    "random_forest_clf4.fit(train_dataset, y_train)\n",
    "ranf_preds4 = random_forest_clf4.predict(test_dataset)\n",
    "print(\"--- %s seconds ---\" % (time.time() - start_time))\n",
    "\n",
    "print(ranf_preds)\n",
    "print(y_test)\n",
    "print(\"accuracy score: {}\".format(accuracy_score(y_test, ranf_preds4)))\n",
    "print(\"f1 score: {}\".format(f1_score(y_test, ranf_preds4, average='micro')))"
   ]
  },
  {
   "cell_type": "markdown",
   "metadata": {
    "collapsed": true
   },
   "source": [
    "# Regular characters; 46 classes"
   ]
  },
  {
   "cell_type": "code",
   "execution_count": 38,
   "metadata": {},
   "outputs": [
    {
     "name": "stdout",
     "output_type": "stream",
     "text": [
      "--- 4.102261066436768 seconds ---\n",
      "accuracy score: 0.8430706521739131\n",
      "f1 score: 0.8430706521739131\n"
     ]
    }
   ],
   "source": [
    "random_forest_clf5 = RandomForestClassifier(n_estimators=100, max_depth=32, random_state=4, min_samples_split=5)\n",
    "\n",
    "start_time = time.time()\n",
    "random_forest_clf5.fit(train_dataset1, y_train1)\n",
    "ranf_preds5 = random_forest_clf5.predict(test_dataset1)\n",
    "print(\"--- %s seconds ---\" % (time.time() - start_time))\n",
    "\n",
    "# print(ranf_preds5)\n",
    "# print(y_test1)\n",
    "print(\"accuracy score: {}\".format(accuracy_score(y_test1, ranf_preds5)))\n",
    "print(\"f1 score: {}\".format(f1_score(y_test1, ranf_preds5, average='micro')))"
   ]
  },
  {
   "cell_type": "markdown",
   "metadata": {},
   "source": [
    "# Voiced characters; 25 classes"
   ]
  },
  {
   "cell_type": "code",
   "execution_count": 46,
   "metadata": {},
   "outputs": [
    {
     "name": "stdout",
     "output_type": "stream",
     "text": [
      "--- 1.8602371215820312 seconds ---\n",
      "accuracy score: 0.76875\n",
      "f1 score: 0.76875\n"
     ]
    }
   ],
   "source": [
    "random_forest_clf6 = RandomForestClassifier(n_estimators=100, max_depth=32, random_state=4, min_samples_split=5)\n",
    "\n",
    "start_time = time.time()\n",
    "random_forest_clf6.fit(train_dataset2, y_train2)\n",
    "ranf_preds6 = random_forest_clf6.predict(test_dataset2)\n",
    "print(\"--- %s seconds ---\" % (time.time() - start_time))\n",
    "\n",
    "# print(ranf_preds)\n",
    "# print(y_test)\n",
    "print(\"accuracy score: {}\".format(accuracy_score(y_test2, ranf_preds6)))\n",
    "print(\"f1 score: {}\".format(f1_score(y_test2, ranf_preds6, average='micro')))"
   ]
  },
  {
   "cell_type": "code",
   "execution_count": null,
   "metadata": {
    "collapsed": true
   },
   "outputs": [],
   "source": []
  }
 ],
 "metadata": {
  "kernelspec": {
   "display_name": "Python [default]",
   "language": "python",
   "name": "python3"
  },
  "language_info": {
   "codemirror_mode": {
    "name": "ipython",
    "version": 3
   },
   "file_extension": ".py",
   "mimetype": "text/x-python",
   "name": "python",
   "nbconvert_exporter": "python",
   "pygments_lexer": "ipython3",
   "version": "3.6.3"
  }
 },
 "nbformat": 4,
 "nbformat_minor": 2
}
